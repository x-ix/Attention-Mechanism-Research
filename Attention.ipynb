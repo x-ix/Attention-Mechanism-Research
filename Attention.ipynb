{
  "nbformat": 4,
  "nbformat_minor": 0,
  "metadata": {
    "colab": {
      "provenance": []
    },
    "kernelspec": {
      "name": "python3",
      "display_name": "Python 3"
    },
    "language_info": {
      "name": "python"
    }
  },
  "cells": [
    {
      "cell_type": "markdown",
      "source": [
        "#Examples of single and multi-head"
      ],
      "metadata": {
        "id": "0OzX2CqX3L3L"
      }
    },
    {
      "cell_type": "code",
      "execution_count": null,
      "metadata": {
        "id": "nxDGLmIc0JxI"
      },
      "outputs": [],
      "source": [
        "import matplotlib.pyplot as plt\n",
        "import torch\n",
        "import math"
      ]
    },
    {
      "cell_type": "code",
      "source": [
        "torch.manual_seed(42)\n",
        "x = torch.rand(1, 5, 8)"
      ],
      "metadata": {
        "id": "UsJrEhIY0P-P"
      },
      "execution_count": null,
      "outputs": []
    },
    {
      "cell_type": "code",
      "source": [
        "qry_proj = torch.nn.Linear(8, 8)\n",
        "key_proj = torch.nn.Linear(8, 8)\n",
        "val_proj = torch.nn.Linear(8, 8)\n",
        "\n",
        "qry = qry_proj(x)\n",
        "key = key_proj(x)\n",
        "val = val_proj(x)\n",
        "\n",
        "# qry -> (1, 5, 8)\n",
        "# key -> (1, 5, 8)\n",
        "# val -> (1, 5, 8)\n",
        "\n",
        "# att -> (1, 5, 8) @ (1, 8, 5) = (1, 5, 5)\n",
        "# out -> (1, 5, 5) @ (1, 5, 8) = (1, 5, 8)\n",
        "\n",
        "att = qry @ key.transpose(-1, -2) / math.sqrt(8)\n",
        "msk = torch.tril(torch.ones(5, 5)) == 0\n",
        "att = att.masked_fill(msk, -float('inf'))\n",
        "att = torch.softmax(att, dim=-1)\n",
        "out = att @ val"
      ],
      "metadata": {
        "id": "03FbOZ670Ulh"
      },
      "execution_count": null,
      "outputs": []
    },
    {
      "cell_type": "code",
      "source": [
        "fig = plt.figure(figsize=(10, 10))\n",
        "num = att.squeeze().detach().numpy()\n",
        "plt.matshow(num, cmap='viridis')\n",
        "plt.colorbar()\n",
        "plt.show()"
      ],
      "metadata": {
        "colab": {
          "base_uri": "https://localhost:8080/",
          "height": 439
        },
        "id": "EgeMZqXJ0V74",
        "outputId": "5d0bc0ad-46da-4288-e0ac-b2fdcd656615"
      },
      "execution_count": null,
      "outputs": [
        {
          "output_type": "display_data",
          "data": {
            "text/plain": [
              "<Figure size 1000x1000 with 0 Axes>"
            ]
          },
          "metadata": {}
        },
        {
          "output_type": "display_data",
          "data": {
            "text/plain": [
              "<Figure size 480x480 with 2 Axes>"
            ],
            "image/png": "[encoded data removed]"
          },
          "metadata": {}
        }
      ]
    },
    {
      "cell_type": "code",
      "source": [
        "qkv_proj = torch.nn.Linear(8, 24)\n",
        "\n",
        "qry, key, val = qkv_proj(x).split(8, dim=-1)\n",
        "\n",
        "# qkv -> (1, 5, 8 * 3) -> (1, 5, 24)\n",
        "# qry -> qkv.split(..) -> (1, 5,  8)\n",
        "# key -> qkv.split(..) -> (1, 5,  8)\n",
        "# val -> qkv.split(..) -> (1, 5,  8)\n",
        "\n",
        "att = qry @ key.transpose(-1, -2) / math.sqrt(8)\n",
        "msk = torch.tril(torch.ones(5, 5)) == 0\n",
        "att = att.masked_fill(msk, -float('inf'))\n",
        "att = torch.softmax(att, dim=-1)\n",
        "out = att @ val"
      ],
      "metadata": {
        "id": "iU59sOst1xr4"
      },
      "execution_count": null,
      "outputs": []
    },
    {
      "cell_type": "code",
      "source": [
        "fig = plt.figure(figsize=(10, 10))\n",
        "num = att.squeeze().detach().numpy()\n",
        "plt.matshow(num, cmap='viridis')\n",
        "plt.colorbar()\n",
        "plt.show()"
      ],
      "metadata": {
        "colab": {
          "base_uri": "https://localhost:8080/",
          "height": 439
        },
        "id": "aCM3iIVQ16DM",
        "outputId": "c68c3c29-efb9-458c-da85-09d54382ee72"
      },
      "execution_count": null,
      "outputs": [
        {
          "output_type": "display_data",
          "data": {
            "text/plain": [
              "<Figure size 1000x1000 with 0 Axes>"
            ]
          },
          "metadata": {}
        },
        {
          "output_type": "display_data",
          "data": {
            "text/plain": [
              "<Figure size 480x480 with 2 Axes>"
            ],
            "image/png": "[encoded data removed]"
          },
          "metadata": {}
        }
      ]
    },
    {
      "cell_type": "code",
      "source": [
        "qkv_proj = torch.nn.Linear(8, 24)\n",
        "qry, key, val = qkv_proj(x).split(8, dim=-1)\n",
        "out = torch.nn.functional.scaled_dot_product_attention(qry, key, val, is_causal=True)\n",
        "#previous graphs plotted att, we don't have access to it as it is within the sdpa in-built torch function"
      ],
      "metadata": {
        "id": "7_qQpZDf2RNk"
      },
      "execution_count": null,
      "outputs": []
    },
    {
      "cell_type": "code",
      "source": [
        "qkv_proj = torch.nn.Linear(8, 24)\n",
        "qry, key, val = qkv_proj(x).split(8, dim=-1)\n",
        "\n",
        "# Given the embedding of size 8, we want\n",
        "# to split it and send it to different\n",
        "# heads to compute a \"partial\" attention.\n",
        "#\n",
        "# Practically, the starting point is:\n",
        "#\n",
        "# qry -> (1, 5, 8)\n",
        "# key -> (1, 5, 8)\n",
        "# val -> (1, 5, 8)\n",
        "#\n",
        "# For each token we enhanced the embedding\n",
        "# with the Linear layer. Now we want to split\n",
        "# it again, 4 elements to each head.\n",
        "#\n",
        "# qry -> (1, 5, 2, 4)\n",
        "# key -> (1, 5, 2, 4)\n",
        "# val -> (1, 5, 2, 4)\n",
        "#\n",
        "# Multiplying the queries with the keys in\n",
        "# this shape directly would not make sense.\n",
        "# Stop and think about it, you will notice\n",
        "# that we would multiply the same token query\n",
        "# with the same token key. See the output:\n",
        "#\n",
        "# (1, 5, 2, 4) @ (1, 5, 4, 2) -> (1, 5, 2, 2)\n",
        "#\n",
        "# It could be read as: For each token we have\n",
        "# an attention matrix of shape (2, 2) as the\n",
        "# result of ones token query multiplied by the\n",
        "# same token key.\n",
        "#\n",
        "# What we want instead is: For each head there\n",
        "# is an attention matrix between the tokens with\n",
        "# respective queries and keys.\n",
        "#\n",
        "# (1, ?, ?, ?) @ (1, ?, ?, ?) -> (1, 2, 5, 5)\n",
        "#\n",
        "# The aim is to group all the token queries\n",
        "# for each head, then do the same for the keys.\n",
        "#\n",
        "# qry -> (1, 5, 2, 4) -> (1, 2, 5, 4)\n",
        "# key -> (1, 5, 2, 4) -> (1, 2, 5, 4)\n",
        "#\n",
        "# To phrase it out loud: For each head group\n",
        "# all the tokens queries and keys. Computing\n",
        "# attention now is straight forward:\n",
        "#\n",
        "# qry @ key.transpose(-1, -2) -> (1, 2, 5, 5)\n",
        "#\n",
        "# From here on is the same as normal attention,\n",
        "# with some minor changes to accommodate for the\n",
        "# value shape concatenation.\n",
        "\n",
        "qry = qry.reshape(1, 5, 2, 4).transpose(1, 2)      # (1, 5, 8) -> (1, 5, 2, 4) -> (1, 2, 5, 4)\n",
        "key = key.reshape(1, 5, 2, 4).transpose(1, 2)      # (1, 5, 8) -> (1, 5, 2, 4) -> (1, 2, 5, 4)\n",
        "val = val.reshape(1, 5, 2, 4).transpose(1, 2)      # (1, 5, 8) -> (1, 5, 2, 4) -> (1, 2, 5, 4)\n",
        "\n",
        "att = qry @ key.transpose(-1, -2) / math.sqrt(4)   # (1, 2, 5, 5)\n",
        "out = (att @ val).transpose(1, 2).reshape(1, 5, 8) # (1, 2, 5, 4) -> (1, 5, 2, 4) -> (1, 5, 8)"
      ],
      "metadata": {
        "id": "eQdQ5Z5G3Dkl"
      },
      "execution_count": null,
      "outputs": []
    },
    {
      "cell_type": "markdown",
      "source": [
        "#Multi-head cleaned up"
      ],
      "metadata": {
        "id": "GRRz5Osx3Z0Q"
      }
    },
    {
      "cell_type": "code",
      "source": [
        "qkv_proj = torch.nn.Linear(8, 24)\n",
        "qry, key, val = qkv_proj(x).split(8, dim=-1)\n",
        "\n",
        "qry = qry.reshape(1, 5, 2, 4).transpose(1, 2)      # (1, 5, 8) -> (1, 5, 2, 4) -> (1, 2, 5, 4)\n",
        "key = key.reshape(1, 5, 2, 4).transpose(1, 2)      # (1, 5, 8) -> (1, 5, 2, 4) -> (1, 2, 5, 4)\n",
        "val = val.reshape(1, 5, 2, 4).transpose(1, 2)      # (1, 5, 8) -> (1, 5, 2, 4) -> (1, 2, 5, 4)\n",
        "\n",
        "att = qry @ key.transpose(-1, -2) / math.sqrt(4)   # (1, 2, 5, 5)\n",
        "out = (att @ val).transpose(1, 2).reshape(1, 5, 8) # (1, 2, 5, 4) -> (1, 5, 2, 4) -> (1, 5, 8)"
      ],
      "metadata": {
        "id": "KQNHEZbP3fE1"
      },
      "execution_count": null,
      "outputs": []
    },
    {
      "cell_type": "code",
      "source": [
        "# import torch\n",
        "# import torch.nn as nn\n",
        "\n",
        "# class MultiHeadedAttention(nn.Module):\n",
        "\n",
        "#     def __init__(self, embed_dim, num_heads, dropout):\n",
        "#         super().__init__()\n",
        "\n",
        "#         self.embed_dim = embed_dim\n",
        "#         self.num_heads = num_heads\n",
        "#         self.head_dim = embed_dim // num_heads\n",
        "\n",
        "#         self.q_proj = nn.Linear(embed_dim, embed_dim)\n",
        "#         self.k_proj = nn.Linear(embed_dim, embed_dim)\n",
        "#         self.v_proj = nn.Linear(embed_dim, embed_dim)\n",
        "\n",
        "\n",
        "#         out = torch.nn.functional.scaled_dot_product_attention(qry, key, val, is_causal=True)\n",
        "\n",
        "#         self.out_proj = nn.Linear(embed_dim, embed_dim)\n",
        "#         self.dropout = nn.Dropout(dropout)\n",
        "\n",
        "#     def forward(self, query, key, value, attn_mask):\n",
        "\n",
        "#         # Retain shape after projection\n",
        "#         query = self.q_proj(query)\n",
        "#         key = self.k_proj(key)\n",
        "#         value = self.v_proj(value)\n",
        "\n",
        "#         qry, key, val = qkv_proj(x).split(self.num.heads, dim=-1)\n",
        "\n",
        "#         qry = qry.reshape(1, 5, 2, 4).transpose(1, 2)      # (1, 5, 8) -> (1, 5, 2, 4) -> (1, 2, 5, 4)\n",
        "#         key = key.reshape(1, 5, 2, 4).transpose(1, 2)      # (1, 5, 8) -> (1, 5, 2, 4) -> (1, 2, 5, 4)\n",
        "#         val = val.reshape(1, 5, 2, 4).transpose(1, 2)      # (1, 5, 8) -> (1, 5, 2, 4) -> (1, 2, 5, 4)\n",
        "\n",
        "#         att = qry @ key.transpose(-1, -2) / math.sqrt(4)   # (1, 2, 5, 5)\n",
        "#         out = (att @ val).transpose(1, 2).reshape(1, 5, 8) # (1, 2, 5, 4) -> (1, 5, 2, 4) -> (1, 5, 8)\n",
        "\n",
        "#         attn_out = self.out_proj(output)\n",
        "\n",
        "#         return attn_out"
      ],
      "metadata": {
        "id": "RsztD5T74K7M"
      },
      "execution_count": null,
      "outputs": []
    }
  ]
}